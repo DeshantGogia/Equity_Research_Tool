{
 "cells": [
  {
   "cell_type": "code",
   "execution_count": 1,
   "id": "7b9b3ad0",
   "metadata": {},
   "outputs": [],
   "source": [
    "import pandas as pd\n",
    "pd.set_option('display.max_colwidth', 100)"
   ]
  },
  {
   "cell_type": "code",
   "execution_count": 2,
   "id": "5474a144",
   "metadata": {},
   "outputs": [
    {
     "data": {
      "text/plain": [
       "(8, 2)"
      ]
     },
     "execution_count": 2,
     "metadata": {},
     "output_type": "execute_result"
    }
   ],
   "source": [
    "df = pd.read_csv(r\"C:\\Users\\desha\\Data science\\Gen_AI\\equity_practice\\for_practice_material\\sample_text.csv\")\n",
    "df.shape"
   ]
  },
  {
   "cell_type": "code",
   "execution_count": 3,
   "id": "e5fa099d",
   "metadata": {},
   "outputs": [
    {
     "data": {
      "text/html": [
       "<div>\n",
       "<style scoped>\n",
       "    .dataframe tbody tr th:only-of-type {\n",
       "        vertical-align: middle;\n",
       "    }\n",
       "\n",
       "    .dataframe tbody tr th {\n",
       "        vertical-align: top;\n",
       "    }\n",
       "\n",
       "    .dataframe thead th {\n",
       "        text-align: right;\n",
       "    }\n",
       "</style>\n",
       "<table border=\"1\" class=\"dataframe\">\n",
       "  <thead>\n",
       "    <tr style=\"text-align: right;\">\n",
       "      <th></th>\n",
       "      <th>text</th>\n",
       "      <th>category</th>\n",
       "    </tr>\n",
       "  </thead>\n",
       "  <tbody>\n",
       "    <tr>\n",
       "      <th>0</th>\n",
       "      <td>Meditation and yoga can improve mental health</td>\n",
       "      <td>Health</td>\n",
       "    </tr>\n",
       "    <tr>\n",
       "      <th>1</th>\n",
       "      <td>Fruits, whole grains and vegetables helps control blood pressure</td>\n",
       "      <td>Health</td>\n",
       "    </tr>\n",
       "    <tr>\n",
       "      <th>2</th>\n",
       "      <td>These are the latest fashion trends for this week</td>\n",
       "      <td>Fashion</td>\n",
       "    </tr>\n",
       "    <tr>\n",
       "      <th>3</th>\n",
       "      <td>Vibrant color jeans for male are becoming a trend</td>\n",
       "      <td>Fashion</td>\n",
       "    </tr>\n",
       "    <tr>\n",
       "      <th>4</th>\n",
       "      <td>The concert starts at 7 PM tonight</td>\n",
       "      <td>Event</td>\n",
       "    </tr>\n",
       "    <tr>\n",
       "      <th>5</th>\n",
       "      <td>Navaratri dandiya program at Expo center in Mumbai this october</td>\n",
       "      <td>Event</td>\n",
       "    </tr>\n",
       "    <tr>\n",
       "      <th>6</th>\n",
       "      <td>Exciting vacation destinations for your next trip</td>\n",
       "      <td>Travel</td>\n",
       "    </tr>\n",
       "    <tr>\n",
       "      <th>7</th>\n",
       "      <td>Maldives and Srilanka are gaining popularity in terms of low budget vacation places</td>\n",
       "      <td>Travel</td>\n",
       "    </tr>\n",
       "  </tbody>\n",
       "</table>\n",
       "</div>"
      ],
      "text/plain": [
       "                                                                                  text  \\\n",
       "0                                        Meditation and yoga can improve mental health   \n",
       "1                     Fruits, whole grains and vegetables helps control blood pressure   \n",
       "2                                    These are the latest fashion trends for this week   \n",
       "3                                    Vibrant color jeans for male are becoming a trend   \n",
       "4                                                   The concert starts at 7 PM tonight   \n",
       "5                      Navaratri dandiya program at Expo center in Mumbai this october   \n",
       "6                                    Exciting vacation destinations for your next trip   \n",
       "7  Maldives and Srilanka are gaining popularity in terms of low budget vacation places   \n",
       "\n",
       "  category  \n",
       "0   Health  \n",
       "1   Health  \n",
       "2  Fashion  \n",
       "3  Fashion  \n",
       "4    Event  \n",
       "5    Event  \n",
       "6   Travel  \n",
       "7   Travel  "
      ]
     },
     "execution_count": 3,
     "metadata": {},
     "output_type": "execute_result"
    }
   ],
   "source": [
    "df"
   ]
  },
  {
   "cell_type": "code",
   "execution_count": 4,
   "id": "cf061cc3",
   "metadata": {},
   "outputs": [
    {
     "name": "stdout",
     "output_type": "stream",
     "text": [
      "2.2.1+cpu\n"
     ]
    }
   ],
   "source": [
    "import torch\n",
    "print(torch.__version__)\n"
   ]
  },
  {
   "cell_type": "code",
   "execution_count": 5,
   "id": "bbe56479",
   "metadata": {},
   "outputs": [
    {
     "name": "stderr",
     "output_type": "stream",
     "text": [
      "c:\\Users\\desha\\.conda\\envs\\langchain_env\\Lib\\site-packages\\tqdm\\auto.py:21: TqdmWarning: IProgress not found. Please update jupyter and ipywidgets. See https://ipywidgets.readthedocs.io/en/stable/user_install.html\n",
      "  from .autonotebook import tqdm as notebook_tqdm\n",
      "c:\\Users\\desha\\.conda\\envs\\langchain_env\\Lib\\site-packages\\transformers\\utils\\generic.py:441: UserWarning: torch.utils._pytree._register_pytree_node is deprecated. Please use torch.utils._pytree.register_pytree_node instead.\n",
      "  _torch_pytree._register_pytree_node(\n",
      "c:\\Users\\desha\\.conda\\envs\\langchain_env\\Lib\\site-packages\\huggingface_hub\\file_download.py:945: FutureWarning: `resume_download` is deprecated and will be removed in version 1.0.0. Downloads always resume when possible. If you want to force a new download, use `force_download=True`.\n",
      "  warnings.warn(\n",
      "c:\\Users\\desha\\.conda\\envs\\langchain_env\\Lib\\site-packages\\transformers\\utils\\generic.py:309: UserWarning: torch.utils._pytree._register_pytree_node is deprecated. Please use torch.utils._pytree.register_pytree_node instead.\n",
      "  _torch_pytree._register_pytree_node(\n"
     ]
    },
    {
     "name": "stdout",
     "output_type": "stream",
     "text": [
      "✅ FinBERT imported successfully!\n"
     ]
    }
   ],
   "source": [
    "from transformers import AutoTokenizer, AutoModel\n",
    "\n",
    "tokenizer = AutoTokenizer.from_pretrained(\"ProsusAI/finbert\")\n",
    "model = AutoModel.from_pretrained(\"ProsusAI/finbert\")\n",
    "\n",
    "print(\"✅ FinBERT imported successfully!\")"
   ]
  },
  {
   "cell_type": "code",
   "execution_count": 6,
   "id": "9295b792",
   "metadata": {},
   "outputs": [
    {
     "name": "stdout",
     "output_type": "stream",
     "text": [
      "(8, 768)\n"
     ]
    }
   ],
   "source": [
    "def mean_pooling(model_output, attention_mask):\n",
    "    \"\"\"Apply mean pooling on token embeddings.\"\"\"\n",
    "    token_embeddings = model_output.last_hidden_state  # (batch, seq_len, hidden_size)\n",
    "    input_mask_expanded = attention_mask.unsqueeze(-1).expand(token_embeddings.size()).float()\n",
    "    sum_embeddings = torch.sum(token_embeddings * input_mask_expanded, 1)\n",
    "    sum_mask = input_mask_expanded.sum(1)\n",
    "    return sum_embeddings / sum_mask  # (batch, hidden_size)\n",
    "\n",
    "def encode(texts, batch_size=4):\n",
    "    \"\"\"Replicates SentenceTransformer.encode() using FinBERT.\"\"\"\n",
    "    all_embeddings = []\n",
    "    for i in range(0, len(texts), batch_size):\n",
    "        batch = texts[i:i+batch_size]\n",
    "        inputs = tokenizer(batch, return_tensors=\"pt\", truncation=True, padding=True, max_length=128)\n",
    "        with torch.no_grad():\n",
    "            outputs = model(**inputs)\n",
    "        embeddings = mean_pooling(outputs, inputs[\"attention_mask\"])\n",
    "        all_embeddings.append(embeddings)\n",
    "    return torch.cat(all_embeddings).cpu().numpy()\n",
    "\n",
    "# Example usage\n",
    "texts = df[\"text\"].tolist()\n",
    "vectors = encode(texts)\n",
    "\n",
    "print(vectors.shape)  # (8, 768)\n",
    "df[\"embedding\"] = list(vectors)"
   ]
  },
  {
   "cell_type": "code",
   "execution_count": 7,
   "id": "1b17f262",
   "metadata": {},
   "outputs": [
    {
     "data": {
      "text/plain": [
       "0    [0.32537353, 0.5706947, -0.44465637, 0.034282874, 0.26576868, -0.32804278, 1.0208964, 0.369243, ...\n",
       "1    [0.231387, 0.5873888, -0.3331679, 0.27685255, 0.5955179, -0.31383783, -0.00960957, 0.9424848, -0...\n",
       "2    [0.034566663, -0.13728066, 0.60293555, 0.002683533, 0.116821595, -0.8160711, 0.19304428, 1.31084...\n",
       "3    [0.52608263, -0.16983034, 0.025238724, -0.07627583, 0.26528844, -0.6013145, 0.3495225, 0.5927164...\n",
       "4    [0.04678474, -0.1000862, 0.75923496, -0.22278969, 0.17171718, -0.7896935, 0.29659304, 1.6121842,...\n",
       "5    [0.19621563, -0.09797091, 0.04822123, -0.04966438, 0.56725454, -0.5944315, 0.100418046, 0.755917...\n",
       "6    [0.24341223, -0.3020848, 0.36592636, 0.2119574, 0.83012307, -0.9028728, 0.29371384, 0.9738028, 0...\n",
       "7    [0.21044843, -0.00919, 0.123780854, 0.33481956, 0.3446361, -0.5889844, -0.099441096, 0.4606435, ...\n",
       "Name: embedding, dtype: object"
      ]
     },
     "execution_count": 7,
     "metadata": {},
     "output_type": "execute_result"
    }
   ],
   "source": [
    "df.embedding"
   ]
  },
  {
   "cell_type": "code",
   "execution_count": 8,
   "id": "36680ccb",
   "metadata": {},
   "outputs": [
    {
     "data": {
      "text/plain": [
       "(768,)"
      ]
     },
     "execution_count": 8,
     "metadata": {},
     "output_type": "execute_result"
    }
   ],
   "source": [
    "df.embedding[0].shape"
   ]
  },
  {
   "cell_type": "code",
   "execution_count": 9,
   "id": "7920d259",
   "metadata": {},
   "outputs": [
    {
     "data": {
      "text/html": [
       "<div>\n",
       "<style scoped>\n",
       "    .dataframe tbody tr th:only-of-type {\n",
       "        vertical-align: middle;\n",
       "    }\n",
       "\n",
       "    .dataframe tbody tr th {\n",
       "        vertical-align: top;\n",
       "    }\n",
       "\n",
       "    .dataframe thead th {\n",
       "        text-align: right;\n",
       "    }\n",
       "</style>\n",
       "<table border=\"1\" class=\"dataframe\">\n",
       "  <thead>\n",
       "    <tr style=\"text-align: right;\">\n",
       "      <th></th>\n",
       "      <th>text</th>\n",
       "      <th>category</th>\n",
       "      <th>embedding</th>\n",
       "    </tr>\n",
       "  </thead>\n",
       "  <tbody>\n",
       "    <tr>\n",
       "      <th>0</th>\n",
       "      <td>Meditation and yoga can improve mental health</td>\n",
       "      <td>Health</td>\n",
       "      <td>[0.32537353, 0.5706947, -0.44465637, 0.034282874, 0.26576868, -0.32804278, 1.0208964, 0.369243, ...</td>\n",
       "    </tr>\n",
       "    <tr>\n",
       "      <th>1</th>\n",
       "      <td>Fruits, whole grains and vegetables helps control blood pressure</td>\n",
       "      <td>Health</td>\n",
       "      <td>[0.231387, 0.5873888, -0.3331679, 0.27685255, 0.5955179, -0.31383783, -0.00960957, 0.9424848, -0...</td>\n",
       "    </tr>\n",
       "    <tr>\n",
       "      <th>2</th>\n",
       "      <td>These are the latest fashion trends for this week</td>\n",
       "      <td>Fashion</td>\n",
       "      <td>[0.034566663, -0.13728066, 0.60293555, 0.002683533, 0.116821595, -0.8160711, 0.19304428, 1.31084...</td>\n",
       "    </tr>\n",
       "    <tr>\n",
       "      <th>3</th>\n",
       "      <td>Vibrant color jeans for male are becoming a trend</td>\n",
       "      <td>Fashion</td>\n",
       "      <td>[0.52608263, -0.16983034, 0.025238724, -0.07627583, 0.26528844, -0.6013145, 0.3495225, 0.5927164...</td>\n",
       "    </tr>\n",
       "    <tr>\n",
       "      <th>4</th>\n",
       "      <td>The concert starts at 7 PM tonight</td>\n",
       "      <td>Event</td>\n",
       "      <td>[0.04678474, -0.1000862, 0.75923496, -0.22278969, 0.17171718, -0.7896935, 0.29659304, 1.6121842,...</td>\n",
       "    </tr>\n",
       "    <tr>\n",
       "      <th>5</th>\n",
       "      <td>Navaratri dandiya program at Expo center in Mumbai this october</td>\n",
       "      <td>Event</td>\n",
       "      <td>[0.19621563, -0.09797091, 0.04822123, -0.04966438, 0.56725454, -0.5944315, 0.100418046, 0.755917...</td>\n",
       "    </tr>\n",
       "    <tr>\n",
       "      <th>6</th>\n",
       "      <td>Exciting vacation destinations for your next trip</td>\n",
       "      <td>Travel</td>\n",
       "      <td>[0.24341223, -0.3020848, 0.36592636, 0.2119574, 0.83012307, -0.9028728, 0.29371384, 0.9738028, 0...</td>\n",
       "    </tr>\n",
       "    <tr>\n",
       "      <th>7</th>\n",
       "      <td>Maldives and Srilanka are gaining popularity in terms of low budget vacation places</td>\n",
       "      <td>Travel</td>\n",
       "      <td>[0.21044843, -0.00919, 0.123780854, 0.33481956, 0.3446361, -0.5889844, -0.099441096, 0.4606435, ...</td>\n",
       "    </tr>\n",
       "  </tbody>\n",
       "</table>\n",
       "</div>"
      ],
      "text/plain": [
       "                                                                                  text  \\\n",
       "0                                        Meditation and yoga can improve mental health   \n",
       "1                     Fruits, whole grains and vegetables helps control blood pressure   \n",
       "2                                    These are the latest fashion trends for this week   \n",
       "3                                    Vibrant color jeans for male are becoming a trend   \n",
       "4                                                   The concert starts at 7 PM tonight   \n",
       "5                      Navaratri dandiya program at Expo center in Mumbai this october   \n",
       "6                                    Exciting vacation destinations for your next trip   \n",
       "7  Maldives and Srilanka are gaining popularity in terms of low budget vacation places   \n",
       "\n",
       "  category  \\\n",
       "0   Health   \n",
       "1   Health   \n",
       "2  Fashion   \n",
       "3  Fashion   \n",
       "4    Event   \n",
       "5    Event   \n",
       "6   Travel   \n",
       "7   Travel   \n",
       "\n",
       "                                                                                             embedding  \n",
       "0  [0.32537353, 0.5706947, -0.44465637, 0.034282874, 0.26576868, -0.32804278, 1.0208964, 0.369243, ...  \n",
       "1  [0.231387, 0.5873888, -0.3331679, 0.27685255, 0.5955179, -0.31383783, -0.00960957, 0.9424848, -0...  \n",
       "2  [0.034566663, -0.13728066, 0.60293555, 0.002683533, 0.116821595, -0.8160711, 0.19304428, 1.31084...  \n",
       "3  [0.52608263, -0.16983034, 0.025238724, -0.07627583, 0.26528844, -0.6013145, 0.3495225, 0.5927164...  \n",
       "4  [0.04678474, -0.1000862, 0.75923496, -0.22278969, 0.17171718, -0.7896935, 0.29659304, 1.6121842,...  \n",
       "5  [0.19621563, -0.09797091, 0.04822123, -0.04966438, 0.56725454, -0.5944315, 0.100418046, 0.755917...  \n",
       "6  [0.24341223, -0.3020848, 0.36592636, 0.2119574, 0.83012307, -0.9028728, 0.29371384, 0.9738028, 0...  \n",
       "7  [0.21044843, -0.00919, 0.123780854, 0.33481956, 0.3446361, -0.5889844, -0.099441096, 0.4606435, ...  "
      ]
     },
     "execution_count": 9,
     "metadata": {},
     "output_type": "execute_result"
    }
   ],
   "source": [
    "df"
   ]
  },
  {
   "cell_type": "code",
   "execution_count": 10,
   "id": "bf21be37",
   "metadata": {},
   "outputs": [
    {
     "data": {
      "text/plain": [
       "array([[ 0.32537353,  0.5706947 , -0.44465637, ..., -0.7846348 ,\n",
       "        -0.7337736 , -0.22857611],\n",
       "       [ 0.231387  ,  0.5873888 , -0.3331679 , ..., -0.722231  ,\n",
       "        -0.67561394, -0.16845137],\n",
       "       [ 0.03456666, -0.13728066,  0.60293555, ..., -0.830476  ,\n",
       "        -0.22966653, -0.30232528],\n",
       "       ...,\n",
       "       [ 0.19621563, -0.09797091,  0.04822123, ..., -0.42305407,\n",
       "        -0.21590513, -0.26118723],\n",
       "       [ 0.24341223, -0.3020848 ,  0.36592636, ..., -0.5664116 ,\n",
       "        -0.48368317, -0.5366415 ],\n",
       "       [ 0.21044843, -0.00919   ,  0.12378085, ..., -0.49746177,\n",
       "         0.00325318,  0.03749327]], dtype=float32)"
      ]
     },
     "execution_count": 10,
     "metadata": {},
     "output_type": "execute_result"
    }
   ],
   "source": [
    "vectors"
   ]
  },
  {
   "cell_type": "code",
   "execution_count": 11,
   "id": "02a3dbe9",
   "metadata": {},
   "outputs": [
    {
     "data": {
      "text/plain": [
       "(8, 768)"
      ]
     },
     "execution_count": 11,
     "metadata": {},
     "output_type": "execute_result"
    }
   ],
   "source": [
    "vectors.shape"
   ]
  },
  {
   "cell_type": "code",
   "execution_count": 12,
   "id": "c47b6936",
   "metadata": {},
   "outputs": [
    {
     "data": {
      "text/plain": [
       "768"
      ]
     },
     "execution_count": 12,
     "metadata": {},
     "output_type": "execute_result"
    }
   ],
   "source": [
    "dim = vectors.shape[1]\n",
    "dim"
   ]
  },
  {
   "cell_type": "code",
   "execution_count": 13,
   "id": "b780d102",
   "metadata": {},
   "outputs": [
    {
     "data": {
      "text/plain": [
       "<faiss.swigfaiss_avx2.IndexFlatL2; proxy of <Swig Object of type 'faiss::IndexFlatL2 *' at 0x00000174E4FD6EE0> >"
      ]
     },
     "execution_count": 13,
     "metadata": {},
     "output_type": "execute_result"
    }
   ],
   "source": [
    "import faiss\n",
    "\n",
    "index = faiss.IndexFlatL2(dim)\n",
    "index"
   ]
  },
  {
   "cell_type": "code",
   "execution_count": 14,
   "id": "1141c7a6",
   "metadata": {},
   "outputs": [],
   "source": [
    "index.add(vectors)"
   ]
  },
  {
   "cell_type": "code",
   "execution_count": 19,
   "id": "11191095",
   "metadata": {},
   "outputs": [
    {
     "name": "stdout",
     "output_type": "stream",
     "text": [
      "(1, 768)\n"
     ]
    }
   ],
   "source": [
    "search_query = \"looking for places to visit during holidays\"\n",
    "\n",
    "# Use your FinBERT encode() function\n",
    "vec = encode([search_query])   # returns shape (1, 768)\n",
    "print(vec.shape)               # (1, 768)"
   ]
  },
  {
   "cell_type": "code",
   "execution_count": 20,
   "id": "c613d267",
   "metadata": {},
   "outputs": [],
   "source": [
    "distances, I = index.search(vec, k=2)"
   ]
  },
  {
   "cell_type": "code",
   "execution_count": 21,
   "id": "10c792be",
   "metadata": {},
   "outputs": [
    {
     "data": {
      "text/plain": [
       "array([[6, 7]], dtype=int64)"
      ]
     },
     "execution_count": 21,
     "metadata": {},
     "output_type": "execute_result"
    }
   ],
   "source": [
    "I"
   ]
  },
  {
   "cell_type": "code",
   "execution_count": 22,
   "id": "6c17f5c3",
   "metadata": {},
   "outputs": [
    {
     "data": {
      "text/html": [
       "<div>\n",
       "<style scoped>\n",
       "    .dataframe tbody tr th:only-of-type {\n",
       "        vertical-align: middle;\n",
       "    }\n",
       "\n",
       "    .dataframe tbody tr th {\n",
       "        vertical-align: top;\n",
       "    }\n",
       "\n",
       "    .dataframe thead th {\n",
       "        text-align: right;\n",
       "    }\n",
       "</style>\n",
       "<table border=\"1\" class=\"dataframe\">\n",
       "  <thead>\n",
       "    <tr style=\"text-align: right;\">\n",
       "      <th></th>\n",
       "      <th>text</th>\n",
       "      <th>category</th>\n",
       "      <th>embedding</th>\n",
       "    </tr>\n",
       "  </thead>\n",
       "  <tbody>\n",
       "    <tr>\n",
       "      <th>6</th>\n",
       "      <td>Exciting vacation destinations for your next trip</td>\n",
       "      <td>Travel</td>\n",
       "      <td>[0.24341223, -0.3020848, 0.36592636, 0.2119574, 0.83012307, -0.9028728, 0.29371384, 0.9738028, 0...</td>\n",
       "    </tr>\n",
       "    <tr>\n",
       "      <th>7</th>\n",
       "      <td>Maldives and Srilanka are gaining popularity in terms of low budget vacation places</td>\n",
       "      <td>Travel</td>\n",
       "      <td>[0.21044843, -0.00919, 0.123780854, 0.33481956, 0.3446361, -0.5889844, -0.099441096, 0.4606435, ...</td>\n",
       "    </tr>\n",
       "  </tbody>\n",
       "</table>\n",
       "</div>"
      ],
      "text/plain": [
       "                                                                                  text  \\\n",
       "6                                    Exciting vacation destinations for your next trip   \n",
       "7  Maldives and Srilanka are gaining popularity in terms of low budget vacation places   \n",
       "\n",
       "  category  \\\n",
       "6   Travel   \n",
       "7   Travel   \n",
       "\n",
       "                                                                                             embedding  \n",
       "6  [0.24341223, -0.3020848, 0.36592636, 0.2119574, 0.83012307, -0.9028728, 0.29371384, 0.9738028, 0...  \n",
       "7  [0.21044843, -0.00919, 0.123780854, 0.33481956, 0.3446361, -0.5889844, -0.099441096, 0.4606435, ...  "
      ]
     },
     "execution_count": 22,
     "metadata": {},
     "output_type": "execute_result"
    }
   ],
   "source": [
    "df.iloc[I[0]]"
   ]
  },
  {
   "cell_type": "code",
   "execution_count": null,
   "id": "b0a0e4e7",
   "metadata": {},
   "outputs": [],
   "source": []
  }
 ],
 "metadata": {
  "kernelspec": {
   "display_name": "langchain_env",
   "language": "python",
   "name": "python3"
  },
  "language_info": {
   "codemirror_mode": {
    "name": "ipython",
    "version": 3
   },
   "file_extension": ".py",
   "mimetype": "text/x-python",
   "name": "python",
   "nbconvert_exporter": "python",
   "pygments_lexer": "ipython3",
   "version": "3.12.11"
  }
 },
 "nbformat": 4,
 "nbformat_minor": 5
}
